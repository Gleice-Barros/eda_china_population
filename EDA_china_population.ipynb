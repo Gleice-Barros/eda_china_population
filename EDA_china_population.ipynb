{
  "nbformat": 4,
  "nbformat_minor": 0,
  "metadata": {
    "colab": {
      "provenance": []
    },
    "kernelspec": {
      "name": "python3",
      "display_name": "Python 3"
    },
    "language_info": {
      "name": "python"
    }
  },
  "cells": [
    {
      "cell_type": "markdown",
      "source": [
        "**Instalando Bibliotecas**\n",
        "\n",
        "---\n",
        "\n",
        "\n",
        "\n",
        "---\n",
        "\n"
      ],
      "metadata": {
        "id": "TNb_6WQh-Evx"
      }
    },
    {
      "cell_type": "code",
      "source": [
        "! pip install pandas"
      ],
      "metadata": {
        "id": "3D0aXO-EMrr-",
        "colab": {
          "base_uri": "https://localhost:8080/"
        },
        "outputId": "7c4200a7-ed59-47dc-bb0f-c0713e20601f"
      },
      "execution_count": null,
      "outputs": [
        {
          "output_type": "stream",
          "name": "stdout",
          "text": [
            "Requirement already satisfied: pandas in /usr/local/lib/python3.10/dist-packages (1.5.3)\n",
            "Requirement already satisfied: python-dateutil>=2.8.1 in /usr/local/lib/python3.10/dist-packages (from pandas) (2.8.2)\n",
            "Requirement already satisfied: pytz>=2020.1 in /usr/local/lib/python3.10/dist-packages (from pandas) (2022.7.1)\n",
            "Requirement already satisfied: numpy>=1.21.0 in /usr/local/lib/python3.10/dist-packages (from pandas) (1.22.4)\n",
            "Requirement already satisfied: six>=1.5 in /usr/local/lib/python3.10/dist-packages (from python-dateutil>=2.8.1->pandas) (1.16.0)\n"
          ]
        }
      ]
    },
    {
      "cell_type": "markdown",
      "source": [
        "**importando as Bibliotecas necessárias.**\n",
        "\n",
        "---\n",
        "\n",
        "\n",
        "\n",
        "---\n",
        "\n"
      ],
      "metadata": {
        "id": "EYN7Jpdq5Ceh"
      }
    },
    {
      "cell_type": "code",
      "source": [
        "import pandas as pd\n",
        "import matplotlib.pyplot as plt\n",
        "import numpy as np"
      ],
      "metadata": {
        "id": "EoyCUzeA1lPP"
      },
      "execution_count": null,
      "outputs": []
    },
    {
      "cell_type": "markdown",
      "source": [
        "**Lendo o arquivo e Visualizando as linhas e colunas**\n",
        "\n",
        "---\n",
        "\n",
        "\n",
        "\n",
        "---\n",
        "\n",
        "\n",
        "\n",
        "---\n",
        "\n"
      ],
      "metadata": {
        "id": "y5JykvpF5Lpq"
      }
    },
    {
      "cell_type": "code",
      "source": [
        "df = pd.read_csv('/content/China population.csv')"
      ],
      "metadata": {
        "id": "VZA4Je7p2KbE"
      },
      "execution_count": null,
      "outputs": []
    },
    {
      "cell_type": "code",
      "source": [
        "df.head()"
      ],
      "metadata": {
        "colab": {
          "base_uri": "https://localhost:8080/",
          "height": 369
        },
        "id": "DgCnYj1R2Wv5",
        "outputId": "a8671e4c-db2d-4b37-e786-7cc5a8f83970"
      },
      "execution_count": null,
      "outputs": [
        {
          "output_type": "execute_result",
          "data": {
            "text/plain": [
              "   Year    Population % Increase in Population  Population Density  \\\n",
              "0  1950  54,39,79,233                    0.00%               56.66   \n",
              "1  1951  55,36,13,988                    1.77%               57.67   \n",
              "2  1952  56,49,54,522                    2.05%               58.85   \n",
              "3  1953  57,73,78,682                    2.20%               60.14   \n",
              "4  1954  58,99,36,004                    2.17%               61.45   \n",
              "\n",
              "  % Increase in Population Density Urban Population  \\\n",
              "0                            0.00%             Null   \n",
              "1                            1.77%             Null   \n",
              "2                            2.05%             Null   \n",
              "3                            2.20%             Null   \n",
              "4                            2.17%             Null   \n",
              "\n",
              "  Urban Population % of Total Population % Increase in Urban Population  \\\n",
              "0                                   Null                           Null   \n",
              "1                                   Null                           Null   \n",
              "2                                   Null                           Null   \n",
              "3                                   Null                           Null   \n",
              "4                                   Null                           Null   \n",
              "\n",
              "  Rural Population Rural Population % of Total Population  ... Birth Rate  \\\n",
              "0             Null                                   Null  ...     46.133   \n",
              "1             Null                                   Null  ...     44.921   \n",
              "2             Null                                   Null  ...     43.710   \n",
              "3             Null                                   Null  ...     42.498   \n",
              "4             Null                                   Null  ...     41.286   \n",
              "\n",
              "   % Change in Birth Rate Death Rate  % Change in Death Rate  \\\n",
              "0                   0.00%     23.366                   0.00%   \n",
              "1                  -2.63%     23.106                  -1.11%   \n",
              "2                  -2.70%     22.845                  -1.13%   \n",
              "3                  -2.77%     22.585                  -1.14%   \n",
              "4                  -2.85%     22.325                  -1.15%   \n",
              "\n",
              "  Infant Mortality Rate  % Change in Infant Mortality Rate Fertility Rate  \\\n",
              "0               127.573                              0.00%          6.488   \n",
              "1               128.008                              0.34%          6.362   \n",
              "2               128.443                              0.34%          6.236   \n",
              "3               128.878                              0.34%          6.110   \n",
              "4               129.313                              0.34%          5.984   \n",
              "\n",
              "   % Change in Fertility Rate Net Migration Rate  \\\n",
              "0                       0.00%             -0.129   \n",
              "1                      -1.94%             -0.116   \n",
              "2                      -1.98%             -0.102   \n",
              "3                      -2.02%             -0.088   \n",
              "4                      -2.06%             -0.074   \n",
              "\n",
              "   % Change in Net Migration Rate  \n",
              "0                           0.00%  \n",
              "1                         -10.08%  \n",
              "2                         -12.07%  \n",
              "3                         -13.73%  \n",
              "4                         -15.91%  \n",
              "\n",
              "[5 rows x 23 columns]"
            ],
            "text/html": [
              "\n",
              "\n",
              "  <div id=\"df-e5cb0397-957d-4369-88b5-30b4c3829a0d\">\n",
              "    <div class=\"colab-df-container\">\n",
              "      <div>\n",
              "<style scoped>\n",
              "    .dataframe tbody tr th:only-of-type {\n",
              "        vertical-align: middle;\n",
              "    }\n",
              "\n",
              "    .dataframe tbody tr th {\n",
              "        vertical-align: top;\n",
              "    }\n",
              "\n",
              "    .dataframe thead th {\n",
              "        text-align: right;\n",
              "    }\n",
              "</style>\n",
              "<table border=\"1\" class=\"dataframe\">\n",
              "  <thead>\n",
              "    <tr style=\"text-align: right;\">\n",
              "      <th></th>\n",
              "      <th>Year</th>\n",
              "      <th>Population</th>\n",
              "      <th>% Increase in Population</th>\n",
              "      <th>Population Density</th>\n",
              "      <th>% Increase in Population Density</th>\n",
              "      <th>Urban Population</th>\n",
              "      <th>Urban Population % of Total Population</th>\n",
              "      <th>% Increase in Urban Population</th>\n",
              "      <th>Rural Population</th>\n",
              "      <th>Rural Population % of Total Population</th>\n",
              "      <th>...</th>\n",
              "      <th>Birth Rate</th>\n",
              "      <th>% Change in Birth Rate</th>\n",
              "      <th>Death Rate</th>\n",
              "      <th>% Change in Death Rate</th>\n",
              "      <th>Infant Mortality Rate</th>\n",
              "      <th>% Change in Infant Mortality Rate</th>\n",
              "      <th>Fertility Rate</th>\n",
              "      <th>% Change in Fertility Rate</th>\n",
              "      <th>Net Migration Rate</th>\n",
              "      <th>% Change in Net Migration Rate</th>\n",
              "    </tr>\n",
              "  </thead>\n",
              "  <tbody>\n",
              "    <tr>\n",
              "      <th>0</th>\n",
              "      <td>1950</td>\n",
              "      <td>54,39,79,233</td>\n",
              "      <td>0.00%</td>\n",
              "      <td>56.66</td>\n",
              "      <td>0.00%</td>\n",
              "      <td>Null</td>\n",
              "      <td>Null</td>\n",
              "      <td>Null</td>\n",
              "      <td>Null</td>\n",
              "      <td>Null</td>\n",
              "      <td>...</td>\n",
              "      <td>46.133</td>\n",
              "      <td>0.00%</td>\n",
              "      <td>23.366</td>\n",
              "      <td>0.00%</td>\n",
              "      <td>127.573</td>\n",
              "      <td>0.00%</td>\n",
              "      <td>6.488</td>\n",
              "      <td>0.00%</td>\n",
              "      <td>-0.129</td>\n",
              "      <td>0.00%</td>\n",
              "    </tr>\n",
              "    <tr>\n",
              "      <th>1</th>\n",
              "      <td>1951</td>\n",
              "      <td>55,36,13,988</td>\n",
              "      <td>1.77%</td>\n",
              "      <td>57.67</td>\n",
              "      <td>1.77%</td>\n",
              "      <td>Null</td>\n",
              "      <td>Null</td>\n",
              "      <td>Null</td>\n",
              "      <td>Null</td>\n",
              "      <td>Null</td>\n",
              "      <td>...</td>\n",
              "      <td>44.921</td>\n",
              "      <td>-2.63%</td>\n",
              "      <td>23.106</td>\n",
              "      <td>-1.11%</td>\n",
              "      <td>128.008</td>\n",
              "      <td>0.34%</td>\n",
              "      <td>6.362</td>\n",
              "      <td>-1.94%</td>\n",
              "      <td>-0.116</td>\n",
              "      <td>-10.08%</td>\n",
              "    </tr>\n",
              "    <tr>\n",
              "      <th>2</th>\n",
              "      <td>1952</td>\n",
              "      <td>56,49,54,522</td>\n",
              "      <td>2.05%</td>\n",
              "      <td>58.85</td>\n",
              "      <td>2.05%</td>\n",
              "      <td>Null</td>\n",
              "      <td>Null</td>\n",
              "      <td>Null</td>\n",
              "      <td>Null</td>\n",
              "      <td>Null</td>\n",
              "      <td>...</td>\n",
              "      <td>43.710</td>\n",
              "      <td>-2.70%</td>\n",
              "      <td>22.845</td>\n",
              "      <td>-1.13%</td>\n",
              "      <td>128.443</td>\n",
              "      <td>0.34%</td>\n",
              "      <td>6.236</td>\n",
              "      <td>-1.98%</td>\n",
              "      <td>-0.102</td>\n",
              "      <td>-12.07%</td>\n",
              "    </tr>\n",
              "    <tr>\n",
              "      <th>3</th>\n",
              "      <td>1953</td>\n",
              "      <td>57,73,78,682</td>\n",
              "      <td>2.20%</td>\n",
              "      <td>60.14</td>\n",
              "      <td>2.20%</td>\n",
              "      <td>Null</td>\n",
              "      <td>Null</td>\n",
              "      <td>Null</td>\n",
              "      <td>Null</td>\n",
              "      <td>Null</td>\n",
              "      <td>...</td>\n",
              "      <td>42.498</td>\n",
              "      <td>-2.77%</td>\n",
              "      <td>22.585</td>\n",
              "      <td>-1.14%</td>\n",
              "      <td>128.878</td>\n",
              "      <td>0.34%</td>\n",
              "      <td>6.110</td>\n",
              "      <td>-2.02%</td>\n",
              "      <td>-0.088</td>\n",
              "      <td>-13.73%</td>\n",
              "    </tr>\n",
              "    <tr>\n",
              "      <th>4</th>\n",
              "      <td>1954</td>\n",
              "      <td>58,99,36,004</td>\n",
              "      <td>2.17%</td>\n",
              "      <td>61.45</td>\n",
              "      <td>2.17%</td>\n",
              "      <td>Null</td>\n",
              "      <td>Null</td>\n",
              "      <td>Null</td>\n",
              "      <td>Null</td>\n",
              "      <td>Null</td>\n",
              "      <td>...</td>\n",
              "      <td>41.286</td>\n",
              "      <td>-2.85%</td>\n",
              "      <td>22.325</td>\n",
              "      <td>-1.15%</td>\n",
              "      <td>129.313</td>\n",
              "      <td>0.34%</td>\n",
              "      <td>5.984</td>\n",
              "      <td>-2.06%</td>\n",
              "      <td>-0.074</td>\n",
              "      <td>-15.91%</td>\n",
              "    </tr>\n",
              "  </tbody>\n",
              "</table>\n",
              "<p>5 rows × 23 columns</p>\n",
              "</div>\n",
              "      <button class=\"colab-df-convert\" onclick=\"convertToInteractive('df-e5cb0397-957d-4369-88b5-30b4c3829a0d')\"\n",
              "              title=\"Convert this dataframe to an interactive table.\"\n",
              "              style=\"display:none;\">\n",
              "\n",
              "  <svg xmlns=\"http://www.w3.org/2000/svg\" height=\"24px\"viewBox=\"0 0 24 24\"\n",
              "       width=\"24px\">\n",
              "    <path d=\"M0 0h24v24H0V0z\" fill=\"none\"/>\n",
              "    <path d=\"M18.56 5.44l.94 2.06.94-2.06 2.06-.94-2.06-.94-.94-2.06-.94 2.06-2.06.94zm-11 1L8.5 8.5l.94-2.06 2.06-.94-2.06-.94L8.5 2.5l-.94 2.06-2.06.94zm10 10l.94 2.06.94-2.06 2.06-.94-2.06-.94-.94-2.06-.94 2.06-2.06.94z\"/><path d=\"M17.41 7.96l-1.37-1.37c-.4-.4-.92-.59-1.43-.59-.52 0-1.04.2-1.43.59L10.3 9.45l-7.72 7.72c-.78.78-.78 2.05 0 2.83L4 21.41c.39.39.9.59 1.41.59.51 0 1.02-.2 1.41-.59l7.78-7.78 2.81-2.81c.8-.78.8-2.07 0-2.86zM5.41 20L4 18.59l7.72-7.72 1.47 1.35L5.41 20z\"/>\n",
              "  </svg>\n",
              "      </button>\n",
              "\n",
              "\n",
              "\n",
              "    <div id=\"df-7a5004bb-6a20-42ea-9131-2d4e54e483e1\">\n",
              "      <button class=\"colab-df-quickchart\" onclick=\"quickchart('df-7a5004bb-6a20-42ea-9131-2d4e54e483e1')\"\n",
              "              title=\"Suggest charts.\"\n",
              "              style=\"display:none;\">\n",
              "\n",
              "<svg xmlns=\"http://www.w3.org/2000/svg\" height=\"24px\"viewBox=\"0 0 24 24\"\n",
              "     width=\"24px\">\n",
              "    <g>\n",
              "        <path d=\"M19 3H5c-1.1 0-2 .9-2 2v14c0 1.1.9 2 2 2h14c1.1 0 2-.9 2-2V5c0-1.1-.9-2-2-2zM9 17H7v-7h2v7zm4 0h-2V7h2v10zm4 0h-2v-4h2v4z\"/>\n",
              "    </g>\n",
              "</svg>\n",
              "      </button>\n",
              "    </div>\n",
              "\n",
              "<style>\n",
              "  .colab-df-quickchart {\n",
              "    background-color: #E8F0FE;\n",
              "    border: none;\n",
              "    border-radius: 50%;\n",
              "    cursor: pointer;\n",
              "    display: none;\n",
              "    fill: #1967D2;\n",
              "    height: 32px;\n",
              "    padding: 0 0 0 0;\n",
              "    width: 32px;\n",
              "  }\n",
              "\n",
              "  .colab-df-quickchart:hover {\n",
              "    background-color: #E2EBFA;\n",
              "    box-shadow: 0px 1px 2px rgba(60, 64, 67, 0.3), 0px 1px 3px 1px rgba(60, 64, 67, 0.15);\n",
              "    fill: #174EA6;\n",
              "  }\n",
              "\n",
              "  [theme=dark] .colab-df-quickchart {\n",
              "    background-color: #3B4455;\n",
              "    fill: #D2E3FC;\n",
              "  }\n",
              "\n",
              "  [theme=dark] .colab-df-quickchart:hover {\n",
              "    background-color: #434B5C;\n",
              "    box-shadow: 0px 1px 3px 1px rgba(0, 0, 0, 0.15);\n",
              "    filter: drop-shadow(0px 1px 2px rgba(0, 0, 0, 0.3));\n",
              "    fill: #FFFFFF;\n",
              "  }\n",
              "</style>\n",
              "\n",
              "    <script>\n",
              "      async function quickchart(key) {\n",
              "        const containerElement = document.querySelector('#' + key);\n",
              "        const charts = await google.colab.kernel.invokeFunction(\n",
              "            'suggestCharts', [key], {});\n",
              "      }\n",
              "    </script>\n",
              "\n",
              "      <script>\n",
              "\n",
              "function displayQuickchartButton(domScope) {\n",
              "  let quickchartButtonEl =\n",
              "    domScope.querySelector('#df-7a5004bb-6a20-42ea-9131-2d4e54e483e1 button.colab-df-quickchart');\n",
              "  quickchartButtonEl.style.display =\n",
              "    google.colab.kernel.accessAllowed ? 'block' : 'none';\n",
              "}\n",
              "\n",
              "        displayQuickchartButton(document);\n",
              "      </script>\n",
              "      <style>\n",
              "    .colab-df-container {\n",
              "      display:flex;\n",
              "      flex-wrap:wrap;\n",
              "      gap: 12px;\n",
              "    }\n",
              "\n",
              "    .colab-df-convert {\n",
              "      background-color: #E8F0FE;\n",
              "      border: none;\n",
              "      border-radius: 50%;\n",
              "      cursor: pointer;\n",
              "      display: none;\n",
              "      fill: #1967D2;\n",
              "      height: 32px;\n",
              "      padding: 0 0 0 0;\n",
              "      width: 32px;\n",
              "    }\n",
              "\n",
              "    .colab-df-convert:hover {\n",
              "      background-color: #E2EBFA;\n",
              "      box-shadow: 0px 1px 2px rgba(60, 64, 67, 0.3), 0px 1px 3px 1px rgba(60, 64, 67, 0.15);\n",
              "      fill: #174EA6;\n",
              "    }\n",
              "\n",
              "    [theme=dark] .colab-df-convert {\n",
              "      background-color: #3B4455;\n",
              "      fill: #D2E3FC;\n",
              "    }\n",
              "\n",
              "    [theme=dark] .colab-df-convert:hover {\n",
              "      background-color: #434B5C;\n",
              "      box-shadow: 0px 1px 3px 1px rgba(0, 0, 0, 0.15);\n",
              "      filter: drop-shadow(0px 1px 2px rgba(0, 0, 0, 0.3));\n",
              "      fill: #FFFFFF;\n",
              "    }\n",
              "  </style>\n",
              "\n",
              "      <script>\n",
              "        const buttonEl =\n",
              "          document.querySelector('#df-e5cb0397-957d-4369-88b5-30b4c3829a0d button.colab-df-convert');\n",
              "        buttonEl.style.display =\n",
              "          google.colab.kernel.accessAllowed ? 'block' : 'none';\n",
              "\n",
              "        async function convertToInteractive(key) {\n",
              "          const element = document.querySelector('#df-e5cb0397-957d-4369-88b5-30b4c3829a0d');\n",
              "          const dataTable =\n",
              "            await google.colab.kernel.invokeFunction('convertToInteractive',\n",
              "                                                     [key], {});\n",
              "          if (!dataTable) return;\n",
              "\n",
              "          const docLinkHtml = 'Like what you see? Visit the ' +\n",
              "            '<a target=\"_blank\" href=https://colab.research.google.com/notebooks/data_table.ipynb>data table notebook</a>'\n",
              "            + ' to learn more about interactive tables.';\n",
              "          element.innerHTML = '';\n",
              "          dataTable['output_type'] = 'display_data';\n",
              "          await google.colab.output.renderOutput(dataTable, element);\n",
              "          const docLink = document.createElement('div');\n",
              "          docLink.innerHTML = docLinkHtml;\n",
              "          element.appendChild(docLink);\n",
              "        }\n",
              "      </script>\n",
              "    </div>\n",
              "  </div>\n"
            ]
          },
          "metadata": {},
          "execution_count": 7
        }
      ]
    },
    {
      "cell_type": "markdown",
      "source": [
        "**EDA**\n",
        "\n",
        "---\n",
        "\n",
        "\n",
        "---\n",
        "\n",
        "\n",
        "\n",
        "---\n",
        "\n",
        "\n",
        "o EDA, que se traduz para análise exploratória de dados, é uma análise voltada para resumir as características principais de um conjunto de dados. Consiste na deteccao de valores nulos, outliers (que são valores que fogem da normalidade e provavelmente podem causar irregularidades nos dados adquiridos por análise ou algoritmos. Ex idade -9 ou 1001) e identificar padrões."
      ],
      "metadata": {
        "id": "wwRaeLLW7pti"
      }
    },
    {
      "cell_type": "markdown",
      "source": [
        "**Checando se há valores nulos no dataframe**\n",
        "\n",
        "---\n",
        "\n",
        "\n",
        "\n",
        "---\n",
        "\n"
      ],
      "metadata": {
        "id": "ww9zlzx98ddN"
      }
    },
    {
      "cell_type": "code",
      "source": [
        "if df.isnull().values.any():\n",
        "    print('O Dataframe contém valores nulos')\n",
        "else:\n",
        "    print('O Dataframe NÃO contém valores nulos')"
      ],
      "metadata": {
        "colab": {
          "base_uri": "https://localhost:8080/"
        },
        "id": "HiliObLe8jW5",
        "outputId": "6a956c8c-2d18-4941-94be-2d92246fc810"
      },
      "execution_count": null,
      "outputs": [
        {
          "output_type": "stream",
          "name": "stdout",
          "text": [
            "O Dataframe NÃO contém valores nulos\n"
          ]
        }
      ]
    },
    {
      "cell_type": "markdown",
      "source": [
        "**Checando se há valores nulos em colunas específicas**\n",
        "\n",
        "---\n",
        "\n",
        "\n",
        "\n",
        "---"
      ],
      "metadata": {
        "id": "6eD93Ang_XwD"
      }
    },
    {
      "cell_type": "code",
      "source": [
        "if df['Urban Population'].isnull().values.any():\n",
        "    print('A coluna possui valores nulos')\n",
        "else:\n",
        "    print('A coluna não possui valores nulos')"
      ],
      "metadata": {
        "colab": {
          "base_uri": "https://localhost:8080/"
        },
        "id": "4FYWMo_r7snx",
        "outputId": "b5878080-73e6-4a8b-ca17-0bd44fe23b23"
      },
      "execution_count": null,
      "outputs": [
        {
          "output_type": "stream",
          "name": "stdout",
          "text": [
            "A coluna não possui valores nulos\n"
          ]
        }
      ]
    },
    {
      "cell_type": "markdown",
      "source": [
        "**Atencão:**\n",
        "*Se voltarmos 4 células, (df.head()), veremos que há valores Null na coluna Urban Population, porém esses valores possuem o tipo string e não estão sendo reconhecidos como null.*"
      ],
      "metadata": {
        "id": "oI3NVjWcAYul"
      }
    },
    {
      "cell_type": "markdown",
      "source": [
        "**Para converter as strings em valores nulos**, você pode usar o método pandas.DataFrame.replace()  e, em seguida, usar o método pandas DataFrame.fillna() junto com a biblioteca **numpy** para substituir as strings por **NaN**\n",
        "(NaN , Not a Number é igual a nulo em um dataframe do pandas)\n"
      ],
      "metadata": {
        "id": "fyalPnEFB-4q"
      }
    },
    {
      "cell_type": "code",
      "source": [
        "df['Urban Population'] = df['Urban Population'].replace('Null', np.nan)\n",
        "df['Urban Population'] = df['Urban Population'].fillna(np.nan)\n"
      ],
      "metadata": {
        "id": "HU-sGjymBhfj"
      },
      "execution_count": null,
      "outputs": []
    },
    {
      "cell_type": "markdown",
      "source": [
        "Agora vemos que a coluna 'Urban Population' possui campos, NaN e se validarmos haverá nulos."
      ],
      "metadata": {
        "id": "mTn0hD6bDmhm"
      }
    },
    {
      "cell_type": "code",
      "source": [
        "print(df['Urban Population'])"
      ],
      "metadata": {
        "colab": {
          "base_uri": "https://localhost:8080/"
        },
        "id": "Jp-7WDylBk7X",
        "outputId": "e0a1e5df-5895-461c-8289-779a80d2546b"
      },
      "execution_count": null,
      "outputs": [
        {
          "output_type": "stream",
          "name": "stdout",
          "text": [
            "0              NaN\n",
            "1              NaN\n",
            "2              NaN\n",
            "3              NaN\n",
            "4              NaN\n",
            "          ...     \n",
            "68    82,97,60,595\n",
            "69    84,89,82,855\n",
            "70    86,68,10,508\n",
            "71    88,28,94,483\n",
            "72             NaN\n",
            "Name: Urban Population, Length: 73, dtype: object\n"
          ]
        }
      ]
    },
    {
      "cell_type": "code",
      "source": [
        "if df['Urban Population'].isnull().values.any():\n",
        "    print('A coluna possui valores nulos')\n",
        "else:\n",
        "    print('A coluna não possui valores nulos')"
      ],
      "metadata": {
        "colab": {
          "base_uri": "https://localhost:8080/"
        },
        "id": "Pv_HyvJyBkuj",
        "outputId": "c9b0becf-63c0-4f0a-b97b-3304ef98843f"
      },
      "execution_count": null,
      "outputs": [
        {
          "output_type": "stream",
          "name": "stdout",
          "text": [
            "A coluna possui valores nulos\n"
          ]
        }
      ]
    },
    {
      "cell_type": "markdown",
      "source": [
        "Vamos fazer o mesmo para qualquer valor nulo no dataframe."
      ],
      "metadata": {
        "id": "sZn2MIxeD_Nx"
      }
    },
    {
      "cell_type": "code",
      "source": [
        "df = df.replace('Null', np.nan)\n",
        "df = df.fillna(value=np.nan)"
      ],
      "metadata": {
        "id": "Qy6nNhopEBeK"
      },
      "execution_count": null,
      "outputs": []
    },
    {
      "cell_type": "markdown",
      "source": [
        "Agora sim, o Dataframe **CONTEM** valores nulos\n",
        "\n",
        "---\n",
        "\n",
        "\n",
        "\n",
        "---\n",
        "\n"
      ],
      "metadata": {
        "id": "MSY91fzxEJK7"
      }
    },
    {
      "cell_type": "code",
      "source": [
        "if df.isnull().values.any():\n",
        "    print('O Dataframe contém valores nulos')\n",
        "else:\n",
        "    print('O Dataframe NÃO contém valores nulos')"
      ],
      "metadata": {
        "colab": {
          "base_uri": "https://localhost:8080/"
        },
        "id": "qtTBu043EHQQ",
        "outputId": "25e5e2ff-0333-4c15-b98b-5e391cf9051a"
      },
      "execution_count": null,
      "outputs": [
        {
          "output_type": "stream",
          "name": "stdout",
          "text": [
            "O Dataframe contém valores nulos\n"
          ]
        }
      ]
    },
    {
      "cell_type": "markdown",
      "source": [
        "**Validando Possíveis Outliers**\n",
        "\n",
        "---\n",
        "\n",
        "\n",
        "\n",
        "---\n",
        "\n",
        "\n",
        "Para detectar outliers em uma coluna de um dataframe do pandas, podemos usar o método pandas.DataFrame.describe() para gerar algumas estatísticas resumidas e identificar os valores que estão muito distantes da média."
      ],
      "metadata": {
        "id": "0bRHYzg7E296"
      }
    },
    {
      "cell_type": "code",
      "source": [
        "df.dtypes"
      ],
      "metadata": {
        "colab": {
          "base_uri": "https://localhost:8080/"
        },
        "id": "SGi3KZyEFQWT",
        "outputId": "bba8b3b1-b7ae-47f0-b809-337ba11d8edf"
      },
      "execution_count": null,
      "outputs": [
        {
          "output_type": "execute_result",
          "data": {
            "text/plain": [
              "Year                                        int64\n",
              "Population                                 object\n",
              "% Increase in Population                   object\n",
              "Population Density                        float64\n",
              "% Increase in Population Density           object\n",
              "Urban Population                           object\n",
              "Urban Population % of Total Population     object\n",
              "% Increase in Urban Population             object\n",
              "Rural Population                           object\n",
              "Rural Population % of Total Population     object\n",
              "% Change in Rural Population               object\n",
              "Life Expectancy                           float64\n",
              "% Increase in Life Expectancy              object\n",
              "Birth Rate                                float64\n",
              "% Change in Birth Rate                     object\n",
              "Death Rate                                float64\n",
              "% Change in Death Rate                     object\n",
              "Infant Mortality Rate                     float64\n",
              "% Change in Infant Mortality Rate          object\n",
              "Fertility Rate                            float64\n",
              "% Change in Fertility Rate                 object\n",
              "Net Migration Rate                        float64\n",
              "% Change in Net Migration Rate             object\n",
              "dtype: object"
            ]
          },
          "metadata": {},
          "execution_count": 15
        }
      ]
    },
    {
      "cell_type": "code",
      "source": [
        "df.describe()"
      ],
      "metadata": {
        "colab": {
          "base_uri": "https://localhost:8080/",
          "height": 344
        },
        "id": "QFySuOvGEyDw",
        "outputId": "9db443f8-a3a9-4f39-cd60-da5834e5c1b0"
      },
      "execution_count": null,
      "outputs": [
        {
          "output_type": "execute_result",
          "data": {
            "text/plain": [
              "              Year  Population Density  Life Expectancy  Birth Rate  \\\n",
              "count    73.000000           73.000000        73.000000   73.000000   \n",
              "mean   1986.000000          108.425068        63.658904   24.311479   \n",
              "std      21.217131           29.877816        11.579135   11.335668   \n",
              "min    1950.000000           56.660000        43.450000   10.902000   \n",
              "25%    1968.000000           81.290000        55.470000   13.028000   \n",
              "50%    1986.000000          112.270000        68.450000   21.908000   \n",
              "75%    2004.000000          135.080000        72.540000   37.034000   \n",
              "max    2022.000000          148.530000        77.300000   46.133000   \n",
              "\n",
              "       Death Rate  Infant Mortality Rate  Fertility Rate  Net Migration Rate  \n",
              "count   73.000000              73.000000       73.000000           73.000000  \n",
              "mean    10.677781              59.927630        3.370904           -0.155452  \n",
              "std      6.012123              43.602044        1.889634            0.095815  \n",
              "min      6.605000               8.696000        1.610000           -0.325000  \n",
              "25%      6.699000              25.283000        1.662000           -0.245000  \n",
              "50%      7.050000              43.217000        2.604000           -0.129000  \n",
              "75%     12.799000              93.824000        5.614000           -0.075000  \n",
              "max     23.366000             135.038000        6.488000           -0.010000  "
            ],
            "text/html": [
              "\n",
              "\n",
              "  <div id=\"df-1d5c48aa-3638-4e9c-86c4-a08741c1023b\">\n",
              "    <div class=\"colab-df-container\">\n",
              "      <div>\n",
              "<style scoped>\n",
              "    .dataframe tbody tr th:only-of-type {\n",
              "        vertical-align: middle;\n",
              "    }\n",
              "\n",
              "    .dataframe tbody tr th {\n",
              "        vertical-align: top;\n",
              "    }\n",
              "\n",
              "    .dataframe thead th {\n",
              "        text-align: right;\n",
              "    }\n",
              "</style>\n",
              "<table border=\"1\" class=\"dataframe\">\n",
              "  <thead>\n",
              "    <tr style=\"text-align: right;\">\n",
              "      <th></th>\n",
              "      <th>Year</th>\n",
              "      <th>Population Density</th>\n",
              "      <th>Life Expectancy</th>\n",
              "      <th>Birth Rate</th>\n",
              "      <th>Death Rate</th>\n",
              "      <th>Infant Mortality Rate</th>\n",
              "      <th>Fertility Rate</th>\n",
              "      <th>Net Migration Rate</th>\n",
              "    </tr>\n",
              "  </thead>\n",
              "  <tbody>\n",
              "    <tr>\n",
              "      <th>count</th>\n",
              "      <td>73.000000</td>\n",
              "      <td>73.000000</td>\n",
              "      <td>73.000000</td>\n",
              "      <td>73.000000</td>\n",
              "      <td>73.000000</td>\n",
              "      <td>73.000000</td>\n",
              "      <td>73.000000</td>\n",
              "      <td>73.000000</td>\n",
              "    </tr>\n",
              "    <tr>\n",
              "      <th>mean</th>\n",
              "      <td>1986.000000</td>\n",
              "      <td>108.425068</td>\n",
              "      <td>63.658904</td>\n",
              "      <td>24.311479</td>\n",
              "      <td>10.677781</td>\n",
              "      <td>59.927630</td>\n",
              "      <td>3.370904</td>\n",
              "      <td>-0.155452</td>\n",
              "    </tr>\n",
              "    <tr>\n",
              "      <th>std</th>\n",
              "      <td>21.217131</td>\n",
              "      <td>29.877816</td>\n",
              "      <td>11.579135</td>\n",
              "      <td>11.335668</td>\n",
              "      <td>6.012123</td>\n",
              "      <td>43.602044</td>\n",
              "      <td>1.889634</td>\n",
              "      <td>0.095815</td>\n",
              "    </tr>\n",
              "    <tr>\n",
              "      <th>min</th>\n",
              "      <td>1950.000000</td>\n",
              "      <td>56.660000</td>\n",
              "      <td>43.450000</td>\n",
              "      <td>10.902000</td>\n",
              "      <td>6.605000</td>\n",
              "      <td>8.696000</td>\n",
              "      <td>1.610000</td>\n",
              "      <td>-0.325000</td>\n",
              "    </tr>\n",
              "    <tr>\n",
              "      <th>25%</th>\n",
              "      <td>1968.000000</td>\n",
              "      <td>81.290000</td>\n",
              "      <td>55.470000</td>\n",
              "      <td>13.028000</td>\n",
              "      <td>6.699000</td>\n",
              "      <td>25.283000</td>\n",
              "      <td>1.662000</td>\n",
              "      <td>-0.245000</td>\n",
              "    </tr>\n",
              "    <tr>\n",
              "      <th>50%</th>\n",
              "      <td>1986.000000</td>\n",
              "      <td>112.270000</td>\n",
              "      <td>68.450000</td>\n",
              "      <td>21.908000</td>\n",
              "      <td>7.050000</td>\n",
              "      <td>43.217000</td>\n",
              "      <td>2.604000</td>\n",
              "      <td>-0.129000</td>\n",
              "    </tr>\n",
              "    <tr>\n",
              "      <th>75%</th>\n",
              "      <td>2004.000000</td>\n",
              "      <td>135.080000</td>\n",
              "      <td>72.540000</td>\n",
              "      <td>37.034000</td>\n",
              "      <td>12.799000</td>\n",
              "      <td>93.824000</td>\n",
              "      <td>5.614000</td>\n",
              "      <td>-0.075000</td>\n",
              "    </tr>\n",
              "    <tr>\n",
              "      <th>max</th>\n",
              "      <td>2022.000000</td>\n",
              "      <td>148.530000</td>\n",
              "      <td>77.300000</td>\n",
              "      <td>46.133000</td>\n",
              "      <td>23.366000</td>\n",
              "      <td>135.038000</td>\n",
              "      <td>6.488000</td>\n",
              "      <td>-0.010000</td>\n",
              "    </tr>\n",
              "  </tbody>\n",
              "</table>\n",
              "</div>\n",
              "      <button class=\"colab-df-convert\" onclick=\"convertToInteractive('df-1d5c48aa-3638-4e9c-86c4-a08741c1023b')\"\n",
              "              title=\"Convert this dataframe to an interactive table.\"\n",
              "              style=\"display:none;\">\n",
              "\n",
              "  <svg xmlns=\"http://www.w3.org/2000/svg\" height=\"24px\"viewBox=\"0 0 24 24\"\n",
              "       width=\"24px\">\n",
              "    <path d=\"M0 0h24v24H0V0z\" fill=\"none\"/>\n",
              "    <path d=\"M18.56 5.44l.94 2.06.94-2.06 2.06-.94-2.06-.94-.94-2.06-.94 2.06-2.06.94zm-11 1L8.5 8.5l.94-2.06 2.06-.94-2.06-.94L8.5 2.5l-.94 2.06-2.06.94zm10 10l.94 2.06.94-2.06 2.06-.94-2.06-.94-.94-2.06-.94 2.06-2.06.94z\"/><path d=\"M17.41 7.96l-1.37-1.37c-.4-.4-.92-.59-1.43-.59-.52 0-1.04.2-1.43.59L10.3 9.45l-7.72 7.72c-.78.78-.78 2.05 0 2.83L4 21.41c.39.39.9.59 1.41.59.51 0 1.02-.2 1.41-.59l7.78-7.78 2.81-2.81c.8-.78.8-2.07 0-2.86zM5.41 20L4 18.59l7.72-7.72 1.47 1.35L5.41 20z\"/>\n",
              "  </svg>\n",
              "      </button>\n",
              "\n",
              "\n",
              "\n",
              "    <div id=\"df-7d518d90-6ab0-4800-9fe9-439fe7c2be4a\">\n",
              "      <button class=\"colab-df-quickchart\" onclick=\"quickchart('df-7d518d90-6ab0-4800-9fe9-439fe7c2be4a')\"\n",
              "              title=\"Suggest charts.\"\n",
              "              style=\"display:none;\">\n",
              "\n",
              "<svg xmlns=\"http://www.w3.org/2000/svg\" height=\"24px\"viewBox=\"0 0 24 24\"\n",
              "     width=\"24px\">\n",
              "    <g>\n",
              "        <path d=\"M19 3H5c-1.1 0-2 .9-2 2v14c0 1.1.9 2 2 2h14c1.1 0 2-.9 2-2V5c0-1.1-.9-2-2-2zM9 17H7v-7h2v7zm4 0h-2V7h2v10zm4 0h-2v-4h2v4z\"/>\n",
              "    </g>\n",
              "</svg>\n",
              "      </button>\n",
              "    </div>\n",
              "\n",
              "<style>\n",
              "  .colab-df-quickchart {\n",
              "    background-color: #E8F0FE;\n",
              "    border: none;\n",
              "    border-radius: 50%;\n",
              "    cursor: pointer;\n",
              "    display: none;\n",
              "    fill: #1967D2;\n",
              "    height: 32px;\n",
              "    padding: 0 0 0 0;\n",
              "    width: 32px;\n",
              "  }\n",
              "\n",
              "  .colab-df-quickchart:hover {\n",
              "    background-color: #E2EBFA;\n",
              "    box-shadow: 0px 1px 2px rgba(60, 64, 67, 0.3), 0px 1px 3px 1px rgba(60, 64, 67, 0.15);\n",
              "    fill: #174EA6;\n",
              "  }\n",
              "\n",
              "  [theme=dark] .colab-df-quickchart {\n",
              "    background-color: #3B4455;\n",
              "    fill: #D2E3FC;\n",
              "  }\n",
              "\n",
              "  [theme=dark] .colab-df-quickchart:hover {\n",
              "    background-color: #434B5C;\n",
              "    box-shadow: 0px 1px 3px 1px rgba(0, 0, 0, 0.15);\n",
              "    filter: drop-shadow(0px 1px 2px rgba(0, 0, 0, 0.3));\n",
              "    fill: #FFFFFF;\n",
              "  }\n",
              "</style>\n",
              "\n",
              "    <script>\n",
              "      async function quickchart(key) {\n",
              "        const containerElement = document.querySelector('#' + key);\n",
              "        const charts = await google.colab.kernel.invokeFunction(\n",
              "            'suggestCharts', [key], {});\n",
              "      }\n",
              "    </script>\n",
              "\n",
              "      <script>\n",
              "\n",
              "function displayQuickchartButton(domScope) {\n",
              "  let quickchartButtonEl =\n",
              "    domScope.querySelector('#df-7d518d90-6ab0-4800-9fe9-439fe7c2be4a button.colab-df-quickchart');\n",
              "  quickchartButtonEl.style.display =\n",
              "    google.colab.kernel.accessAllowed ? 'block' : 'none';\n",
              "}\n",
              "\n",
              "        displayQuickchartButton(document);\n",
              "      </script>\n",
              "      <style>\n",
              "    .colab-df-container {\n",
              "      display:flex;\n",
              "      flex-wrap:wrap;\n",
              "      gap: 12px;\n",
              "    }\n",
              "\n",
              "    .colab-df-convert {\n",
              "      background-color: #E8F0FE;\n",
              "      border: none;\n",
              "      border-radius: 50%;\n",
              "      cursor: pointer;\n",
              "      display: none;\n",
              "      fill: #1967D2;\n",
              "      height: 32px;\n",
              "      padding: 0 0 0 0;\n",
              "      width: 32px;\n",
              "    }\n",
              "\n",
              "    .colab-df-convert:hover {\n",
              "      background-color: #E2EBFA;\n",
              "      box-shadow: 0px 1px 2px rgba(60, 64, 67, 0.3), 0px 1px 3px 1px rgba(60, 64, 67, 0.15);\n",
              "      fill: #174EA6;\n",
              "    }\n",
              "\n",
              "    [theme=dark] .colab-df-convert {\n",
              "      background-color: #3B4455;\n",
              "      fill: #D2E3FC;\n",
              "    }\n",
              "\n",
              "    [theme=dark] .colab-df-convert:hover {\n",
              "      background-color: #434B5C;\n",
              "      box-shadow: 0px 1px 3px 1px rgba(0, 0, 0, 0.15);\n",
              "      filter: drop-shadow(0px 1px 2px rgba(0, 0, 0, 0.3));\n",
              "      fill: #FFFFFF;\n",
              "    }\n",
              "  </style>\n",
              "\n",
              "      <script>\n",
              "        const buttonEl =\n",
              "          document.querySelector('#df-1d5c48aa-3638-4e9c-86c4-a08741c1023b button.colab-df-convert');\n",
              "        buttonEl.style.display =\n",
              "          google.colab.kernel.accessAllowed ? 'block' : 'none';\n",
              "\n",
              "        async function convertToInteractive(key) {\n",
              "          const element = document.querySelector('#df-1d5c48aa-3638-4e9c-86c4-a08741c1023b');\n",
              "          const dataTable =\n",
              "            await google.colab.kernel.invokeFunction('convertToInteractive',\n",
              "                                                     [key], {});\n",
              "          if (!dataTable) return;\n",
              "\n",
              "          const docLinkHtml = 'Like what you see? Visit the ' +\n",
              "            '<a target=\"_blank\" href=https://colab.research.google.com/notebooks/data_table.ipynb>data table notebook</a>'\n",
              "            + ' to learn more about interactive tables.';\n",
              "          element.innerHTML = '';\n",
              "          dataTable['output_type'] = 'display_data';\n",
              "          await google.colab.output.renderOutput(dataTable, element);\n",
              "          const docLink = document.createElement('div');\n",
              "          docLink.innerHTML = docLinkHtml;\n",
              "          element.appendChild(docLink);\n",
              "        }\n",
              "      </script>\n",
              "    </div>\n",
              "  </div>\n"
            ]
          },
          "metadata": {},
          "execution_count": 16
        }
      ]
    },
    {
      "cell_type": "markdown",
      "source": [
        "A análise do campo **year** pode ser feita visualizando o próprio resultado do describe. Podemos ver que o valor mínimo é 1950 e o valor máximo é 2022 e isso tá dentro do esperado."
      ],
      "metadata": {
        "id": "wLwoXv9eFnTW"
      }
    },
    {
      "cell_type": "markdown",
      "source": [
        "Agora eu gostaria de validar se há outliers na segunda coluna, a **Population**, mas se seguirmos o exemplo da coluna anterior, parece não ser tão simples identificar. Podemos explorar um pouco mais."
      ],
      "metadata": {
        "id": "i2ePwBspGXb_"
      }
    },
    {
      "cell_type": "markdown",
      "source": [
        "Vou converter esse campo para o tipo float para possibilitar efetuarmos calculos sobre ele"
      ],
      "metadata": {
        "id": "dsPyqnvjHylM"
      }
    },
    {
      "cell_type": "code",
      "source": [
        "# Configuração para exibir números sem notação científica\n",
        "pd.set_option('display.float_format', '{:.0f}'.format)"
      ],
      "metadata": {
        "id": "-YY8aJNFOeVo"
      },
      "execution_count": null,
      "outputs": []
    },
    {
      "cell_type": "code",
      "source": [
        "df['Population'] = df['Population'].str.replace(',', '').astype(float)"
      ],
      "metadata": {
        "id": "821m4KT9H_Wh"
      },
      "execution_count": null,
      "outputs": []
    },
    {
      "cell_type": "code",
      "source": [
        "df['Population']"
      ],
      "metadata": {
        "colab": {
          "base_uri": "https://localhost:8080/"
        },
        "id": "c-vgrLZxIHef",
        "outputId": "c1b881da-acac-4ffd-fb29-8f358644e27c"
      },
      "execution_count": null,
      "outputs": [
        {
          "output_type": "execute_result",
          "data": {
            "text/plain": [
              "0     543979233\n",
              "1     553613988\n",
              "2     564954522\n",
              "3     577378682\n",
              "4     589936004\n",
              "        ...    \n",
              "68   1417069468\n",
              "69   1421864031\n",
              "70   1424929781\n",
              "71   1425893465\n",
              "72   1425887337\n",
              "Name: Population, Length: 73, dtype: float64"
            ]
          },
          "metadata": {},
          "execution_count": 20
        }
      ]
    },
    {
      "cell_type": "code",
      "source": [
        "min(df['Population'])"
      ],
      "metadata": {
        "colab": {
          "base_uri": "https://localhost:8080/"
        },
        "id": "C1-uh4VEBjjg",
        "outputId": "35939a53-8f57-4218-cab0-eadf84687de1"
      },
      "execution_count": null,
      "outputs": [
        {
          "output_type": "execute_result",
          "data": {
            "text/plain": [
              "543979233.0"
            ]
          },
          "metadata": {},
          "execution_count": 18
        }
      ]
    },
    {
      "cell_type": "code",
      "source": [
        "df['Population'].quantile(0.25)"
      ],
      "metadata": {
        "colab": {
          "base_uri": "https://localhost:8080/"
        },
        "id": "LeGBIpUII4ix",
        "outputId": "dbe07238-e19a-424f-dcf9-5dc2cb8a569f"
      },
      "execution_count": null,
      "outputs": [
        {
          "output_type": "execute_result",
          "data": {
            "text/plain": [
              "780371956.0"
            ]
          },
          "metadata": {},
          "execution_count": 21
        }
      ]
    },
    {
      "cell_type": "code",
      "source": [
        "q1 = df['Population'].quantile(0.25)\n",
        "q3 = df['Population'].quantile(0.75)\n",
        "iqr = q3 - q1\n",
        "lower_bound = q1 - (1.5 * iqr)\n",
        "upper_bound = q3 + (1.5 * iqr)\n"
      ],
      "metadata": {
        "id": "HSQfrr75FQZh"
      },
      "execution_count": null,
      "outputs": []
    },
    {
      "cell_type": "code",
      "source": [
        "upper_bound"
      ],
      "metadata": {
        "id": "fy-hpj5K3o2w",
        "colab": {
          "base_uri": "https://localhost:8080/"
        },
        "outputId": "b42b667d-7df7-4d49-f1dd-86189f1ece76"
      },
      "execution_count": null,
      "outputs": [
        {
          "output_type": "execute_result",
          "data": {
            "text/plain": [
              "2071483843.5"
            ]
          },
          "metadata": {},
          "execution_count": 23
        }
      ]
    },
    {
      "cell_type": "code",
      "source": [
        "x = df['Year'].values.reshape(-1, 1)\n",
        "y = df['Population'].values"
      ],
      "metadata": {
        "id": "pKh-BpNc221w"
      },
      "execution_count": null,
      "outputs": []
    },
    {
      "cell_type": "markdown",
      "source": [
        "\n",
        "\n",
        "---\n",
        "\n",
        "\n",
        "\n",
        "---\n",
        "\n"
      ],
      "metadata": {
        "id": "Ic2ynw91CAWn"
      }
    },
    {
      "cell_type": "code",
      "source": [
        "ano_pop = df[['Year','Population', 'Fertility Rate']]\n",
        "\n",
        "ano_pop"
      ],
      "metadata": {
        "id": "WKDdLbkqIw_5",
        "colab": {
          "base_uri": "https://localhost:8080/",
          "height": 423
        },
        "outputId": "ab207913-6c3f-4589-8efb-d5a024f0152c"
      },
      "execution_count": null,
      "outputs": [
        {
          "output_type": "execute_result",
          "data": {
            "text/plain": [
              "    Year  Population  Fertility Rate\n",
              "0   1950   543979233               6\n",
              "1   1951   553613988               6\n",
              "2   1952   564954522               6\n",
              "3   1953   577378682               6\n",
              "4   1954   589936004               6\n",
              "..   ...         ...             ...\n",
              "68  2018  1417069468               2\n",
              "69  2019  1421864031               2\n",
              "70  2020  1424929781               2\n",
              "71  2021  1425893465               2\n",
              "72  2022  1425887337               2\n",
              "\n",
              "[73 rows x 3 columns]"
            ],
            "text/html": [
              "\n",
              "\n",
              "  <div id=\"df-4d1dbc9f-7aa9-434c-830c-7f9eaaa5b49a\">\n",
              "    <div class=\"colab-df-container\">\n",
              "      <div>\n",
              "<style scoped>\n",
              "    .dataframe tbody tr th:only-of-type {\n",
              "        vertical-align: middle;\n",
              "    }\n",
              "\n",
              "    .dataframe tbody tr th {\n",
              "        vertical-align: top;\n",
              "    }\n",
              "\n",
              "    .dataframe thead th {\n",
              "        text-align: right;\n",
              "    }\n",
              "</style>\n",
              "<table border=\"1\" class=\"dataframe\">\n",
              "  <thead>\n",
              "    <tr style=\"text-align: right;\">\n",
              "      <th></th>\n",
              "      <th>Year</th>\n",
              "      <th>Population</th>\n",
              "      <th>Fertility Rate</th>\n",
              "    </tr>\n",
              "  </thead>\n",
              "  <tbody>\n",
              "    <tr>\n",
              "      <th>0</th>\n",
              "      <td>1950</td>\n",
              "      <td>543979233</td>\n",
              "      <td>6</td>\n",
              "    </tr>\n",
              "    <tr>\n",
              "      <th>1</th>\n",
              "      <td>1951</td>\n",
              "      <td>553613988</td>\n",
              "      <td>6</td>\n",
              "    </tr>\n",
              "    <tr>\n",
              "      <th>2</th>\n",
              "      <td>1952</td>\n",
              "      <td>564954522</td>\n",
              "      <td>6</td>\n",
              "    </tr>\n",
              "    <tr>\n",
              "      <th>3</th>\n",
              "      <td>1953</td>\n",
              "      <td>577378682</td>\n",
              "      <td>6</td>\n",
              "    </tr>\n",
              "    <tr>\n",
              "      <th>4</th>\n",
              "      <td>1954</td>\n",
              "      <td>589936004</td>\n",
              "      <td>6</td>\n",
              "    </tr>\n",
              "    <tr>\n",
              "      <th>...</th>\n",
              "      <td>...</td>\n",
              "      <td>...</td>\n",
              "      <td>...</td>\n",
              "    </tr>\n",
              "    <tr>\n",
              "      <th>68</th>\n",
              "      <td>2018</td>\n",
              "      <td>1417069468</td>\n",
              "      <td>2</td>\n",
              "    </tr>\n",
              "    <tr>\n",
              "      <th>69</th>\n",
              "      <td>2019</td>\n",
              "      <td>1421864031</td>\n",
              "      <td>2</td>\n",
              "    </tr>\n",
              "    <tr>\n",
              "      <th>70</th>\n",
              "      <td>2020</td>\n",
              "      <td>1424929781</td>\n",
              "      <td>2</td>\n",
              "    </tr>\n",
              "    <tr>\n",
              "      <th>71</th>\n",
              "      <td>2021</td>\n",
              "      <td>1425893465</td>\n",
              "      <td>2</td>\n",
              "    </tr>\n",
              "    <tr>\n",
              "      <th>72</th>\n",
              "      <td>2022</td>\n",
              "      <td>1425887337</td>\n",
              "      <td>2</td>\n",
              "    </tr>\n",
              "  </tbody>\n",
              "</table>\n",
              "<p>73 rows × 3 columns</p>\n",
              "</div>\n",
              "      <button class=\"colab-df-convert\" onclick=\"convertToInteractive('df-4d1dbc9f-7aa9-434c-830c-7f9eaaa5b49a')\"\n",
              "              title=\"Convert this dataframe to an interactive table.\"\n",
              "              style=\"display:none;\">\n",
              "\n",
              "  <svg xmlns=\"http://www.w3.org/2000/svg\" height=\"24px\"viewBox=\"0 0 24 24\"\n",
              "       width=\"24px\">\n",
              "    <path d=\"M0 0h24v24H0V0z\" fill=\"none\"/>\n",
              "    <path d=\"M18.56 5.44l.94 2.06.94-2.06 2.06-.94-2.06-.94-.94-2.06-.94 2.06-2.06.94zm-11 1L8.5 8.5l.94-2.06 2.06-.94-2.06-.94L8.5 2.5l-.94 2.06-2.06.94zm10 10l.94 2.06.94-2.06 2.06-.94-2.06-.94-.94-2.06-.94 2.06-2.06.94z\"/><path d=\"M17.41 7.96l-1.37-1.37c-.4-.4-.92-.59-1.43-.59-.52 0-1.04.2-1.43.59L10.3 9.45l-7.72 7.72c-.78.78-.78 2.05 0 2.83L4 21.41c.39.39.9.59 1.41.59.51 0 1.02-.2 1.41-.59l7.78-7.78 2.81-2.81c.8-.78.8-2.07 0-2.86zM5.41 20L4 18.59l7.72-7.72 1.47 1.35L5.41 20z\"/>\n",
              "  </svg>\n",
              "      </button>\n",
              "\n",
              "\n",
              "\n",
              "    <div id=\"df-48afc4a9-7477-45d9-bae2-dffe387d0ab5\">\n",
              "      <button class=\"colab-df-quickchart\" onclick=\"quickchart('df-48afc4a9-7477-45d9-bae2-dffe387d0ab5')\"\n",
              "              title=\"Suggest charts.\"\n",
              "              style=\"display:none;\">\n",
              "\n",
              "<svg xmlns=\"http://www.w3.org/2000/svg\" height=\"24px\"viewBox=\"0 0 24 24\"\n",
              "     width=\"24px\">\n",
              "    <g>\n",
              "        <path d=\"M19 3H5c-1.1 0-2 .9-2 2v14c0 1.1.9 2 2 2h14c1.1 0 2-.9 2-2V5c0-1.1-.9-2-2-2zM9 17H7v-7h2v7zm4 0h-2V7h2v10zm4 0h-2v-4h2v4z\"/>\n",
              "    </g>\n",
              "</svg>\n",
              "      </button>\n",
              "    </div>\n",
              "\n",
              "<style>\n",
              "  .colab-df-quickchart {\n",
              "    background-color: #E8F0FE;\n",
              "    border: none;\n",
              "    border-radius: 50%;\n",
              "    cursor: pointer;\n",
              "    display: none;\n",
              "    fill: #1967D2;\n",
              "    height: 32px;\n",
              "    padding: 0 0 0 0;\n",
              "    width: 32px;\n",
              "  }\n",
              "\n",
              "  .colab-df-quickchart:hover {\n",
              "    background-color: #E2EBFA;\n",
              "    box-shadow: 0px 1px 2px rgba(60, 64, 67, 0.3), 0px 1px 3px 1px rgba(60, 64, 67, 0.15);\n",
              "    fill: #174EA6;\n",
              "  }\n",
              "\n",
              "  [theme=dark] .colab-df-quickchart {\n",
              "    background-color: #3B4455;\n",
              "    fill: #D2E3FC;\n",
              "  }\n",
              "\n",
              "  [theme=dark] .colab-df-quickchart:hover {\n",
              "    background-color: #434B5C;\n",
              "    box-shadow: 0px 1px 3px 1px rgba(0, 0, 0, 0.15);\n",
              "    filter: drop-shadow(0px 1px 2px rgba(0, 0, 0, 0.3));\n",
              "    fill: #FFFFFF;\n",
              "  }\n",
              "</style>\n",
              "\n",
              "    <script>\n",
              "      async function quickchart(key) {\n",
              "        const containerElement = document.querySelector('#' + key);\n",
              "        const charts = await google.colab.kernel.invokeFunction(\n",
              "            'suggestCharts', [key], {});\n",
              "      }\n",
              "    </script>\n",
              "\n",
              "      <script>\n",
              "\n",
              "function displayQuickchartButton(domScope) {\n",
              "  let quickchartButtonEl =\n",
              "    domScope.querySelector('#df-48afc4a9-7477-45d9-bae2-dffe387d0ab5 button.colab-df-quickchart');\n",
              "  quickchartButtonEl.style.display =\n",
              "    google.colab.kernel.accessAllowed ? 'block' : 'none';\n",
              "}\n",
              "\n",
              "        displayQuickchartButton(document);\n",
              "      </script>\n",
              "      <style>\n",
              "    .colab-df-container {\n",
              "      display:flex;\n",
              "      flex-wrap:wrap;\n",
              "      gap: 12px;\n",
              "    }\n",
              "\n",
              "    .colab-df-convert {\n",
              "      background-color: #E8F0FE;\n",
              "      border: none;\n",
              "      border-radius: 50%;\n",
              "      cursor: pointer;\n",
              "      display: none;\n",
              "      fill: #1967D2;\n",
              "      height: 32px;\n",
              "      padding: 0 0 0 0;\n",
              "      width: 32px;\n",
              "    }\n",
              "\n",
              "    .colab-df-convert:hover {\n",
              "      background-color: #E2EBFA;\n",
              "      box-shadow: 0px 1px 2px rgba(60, 64, 67, 0.3), 0px 1px 3px 1px rgba(60, 64, 67, 0.15);\n",
              "      fill: #174EA6;\n",
              "    }\n",
              "\n",
              "    [theme=dark] .colab-df-convert {\n",
              "      background-color: #3B4455;\n",
              "      fill: #D2E3FC;\n",
              "    }\n",
              "\n",
              "    [theme=dark] .colab-df-convert:hover {\n",
              "      background-color: #434B5C;\n",
              "      box-shadow: 0px 1px 3px 1px rgba(0, 0, 0, 0.15);\n",
              "      filter: drop-shadow(0px 1px 2px rgba(0, 0, 0, 0.3));\n",
              "      fill: #FFFFFF;\n",
              "    }\n",
              "  </style>\n",
              "\n",
              "      <script>\n",
              "        const buttonEl =\n",
              "          document.querySelector('#df-4d1dbc9f-7aa9-434c-830c-7f9eaaa5b49a button.colab-df-convert');\n",
              "        buttonEl.style.display =\n",
              "          google.colab.kernel.accessAllowed ? 'block' : 'none';\n",
              "\n",
              "        async function convertToInteractive(key) {\n",
              "          const element = document.querySelector('#df-4d1dbc9f-7aa9-434c-830c-7f9eaaa5b49a');\n",
              "          const dataTable =\n",
              "            await google.colab.kernel.invokeFunction('convertToInteractive',\n",
              "                                                     [key], {});\n",
              "          if (!dataTable) return;\n",
              "\n",
              "          const docLinkHtml = 'Like what you see? Visit the ' +\n",
              "            '<a target=\"_blank\" href=https://colab.research.google.com/notebooks/data_table.ipynb>data table notebook</a>'\n",
              "            + ' to learn more about interactive tables.';\n",
              "          element.innerHTML = '';\n",
              "          dataTable['output_type'] = 'display_data';\n",
              "          await google.colab.output.renderOutput(dataTable, element);\n",
              "          const docLink = document.createElement('div');\n",
              "          docLink.innerHTML = docLinkHtml;\n",
              "          element.appendChild(docLink);\n",
              "        }\n",
              "      </script>\n",
              "    </div>\n",
              "  </div>\n"
            ]
          },
          "metadata": {},
          "execution_count": 25
        }
      ]
    },
    {
      "cell_type": "code",
      "source": [
        "df_filtered = ano_pop.query('Year % 5 == 0')\n",
        "df_filtered"
      ],
      "metadata": {
        "colab": {
          "base_uri": "https://localhost:8080/",
          "height": 519
        },
        "id": "dYPO3dfIKTWv",
        "outputId": "d8b71067-262c-49be-e09c-d384106ff711"
      },
      "execution_count": null,
      "outputs": [
        {
          "output_type": "execute_result",
          "data": {
            "text/plain": [
              "    Year  Population  Fertility Rate\n",
              "0   1950   543979233               6\n",
              "5   1955   603320147               6\n",
              "10  1960   654170692               6\n",
              "15  1965   723846349               6\n",
              "20  1970   822534450               6\n",
              "25  1975   915124661               4\n",
              "30  1980   982372466               3\n",
              "35  1985  1060239979               3\n",
              "40  1990  1153704252               2\n",
              "45  1995  1218144426               2\n",
              "50  2000  1264099069               2\n",
              "55  2005  1304887562               2\n",
              "60  2010  1348191368               2\n",
              "65  2015  1393715448               2\n",
              "70  2020  1424929781               2"
            ],
            "text/html": [
              "\n",
              "\n",
              "  <div id=\"df-910e77d1-1bf5-4f95-8e30-21ea5910c522\">\n",
              "    <div class=\"colab-df-container\">\n",
              "      <div>\n",
              "<style scoped>\n",
              "    .dataframe tbody tr th:only-of-type {\n",
              "        vertical-align: middle;\n",
              "    }\n",
              "\n",
              "    .dataframe tbody tr th {\n",
              "        vertical-align: top;\n",
              "    }\n",
              "\n",
              "    .dataframe thead th {\n",
              "        text-align: right;\n",
              "    }\n",
              "</style>\n",
              "<table border=\"1\" class=\"dataframe\">\n",
              "  <thead>\n",
              "    <tr style=\"text-align: right;\">\n",
              "      <th></th>\n",
              "      <th>Year</th>\n",
              "      <th>Population</th>\n",
              "      <th>Fertility Rate</th>\n",
              "    </tr>\n",
              "  </thead>\n",
              "  <tbody>\n",
              "    <tr>\n",
              "      <th>0</th>\n",
              "      <td>1950</td>\n",
              "      <td>543979233</td>\n",
              "      <td>6</td>\n",
              "    </tr>\n",
              "    <tr>\n",
              "      <th>5</th>\n",
              "      <td>1955</td>\n",
              "      <td>603320147</td>\n",
              "      <td>6</td>\n",
              "    </tr>\n",
              "    <tr>\n",
              "      <th>10</th>\n",
              "      <td>1960</td>\n",
              "      <td>654170692</td>\n",
              "      <td>6</td>\n",
              "    </tr>\n",
              "    <tr>\n",
              "      <th>15</th>\n",
              "      <td>1965</td>\n",
              "      <td>723846349</td>\n",
              "      <td>6</td>\n",
              "    </tr>\n",
              "    <tr>\n",
              "      <th>20</th>\n",
              "      <td>1970</td>\n",
              "      <td>822534450</td>\n",
              "      <td>6</td>\n",
              "    </tr>\n",
              "    <tr>\n",
              "      <th>25</th>\n",
              "      <td>1975</td>\n",
              "      <td>915124661</td>\n",
              "      <td>4</td>\n",
              "    </tr>\n",
              "    <tr>\n",
              "      <th>30</th>\n",
              "      <td>1980</td>\n",
              "      <td>982372466</td>\n",
              "      <td>3</td>\n",
              "    </tr>\n",
              "    <tr>\n",
              "      <th>35</th>\n",
              "      <td>1985</td>\n",
              "      <td>1060239979</td>\n",
              "      <td>3</td>\n",
              "    </tr>\n",
              "    <tr>\n",
              "      <th>40</th>\n",
              "      <td>1990</td>\n",
              "      <td>1153704252</td>\n",
              "      <td>2</td>\n",
              "    </tr>\n",
              "    <tr>\n",
              "      <th>45</th>\n",
              "      <td>1995</td>\n",
              "      <td>1218144426</td>\n",
              "      <td>2</td>\n",
              "    </tr>\n",
              "    <tr>\n",
              "      <th>50</th>\n",
              "      <td>2000</td>\n",
              "      <td>1264099069</td>\n",
              "      <td>2</td>\n",
              "    </tr>\n",
              "    <tr>\n",
              "      <th>55</th>\n",
              "      <td>2005</td>\n",
              "      <td>1304887562</td>\n",
              "      <td>2</td>\n",
              "    </tr>\n",
              "    <tr>\n",
              "      <th>60</th>\n",
              "      <td>2010</td>\n",
              "      <td>1348191368</td>\n",
              "      <td>2</td>\n",
              "    </tr>\n",
              "    <tr>\n",
              "      <th>65</th>\n",
              "      <td>2015</td>\n",
              "      <td>1393715448</td>\n",
              "      <td>2</td>\n",
              "    </tr>\n",
              "    <tr>\n",
              "      <th>70</th>\n",
              "      <td>2020</td>\n",
              "      <td>1424929781</td>\n",
              "      <td>2</td>\n",
              "    </tr>\n",
              "  </tbody>\n",
              "</table>\n",
              "</div>\n",
              "      <button class=\"colab-df-convert\" onclick=\"convertToInteractive('df-910e77d1-1bf5-4f95-8e30-21ea5910c522')\"\n",
              "              title=\"Convert this dataframe to an interactive table.\"\n",
              "              style=\"display:none;\">\n",
              "\n",
              "  <svg xmlns=\"http://www.w3.org/2000/svg\" height=\"24px\"viewBox=\"0 0 24 24\"\n",
              "       width=\"24px\">\n",
              "    <path d=\"M0 0h24v24H0V0z\" fill=\"none\"/>\n",
              "    <path d=\"M18.56 5.44l.94 2.06.94-2.06 2.06-.94-2.06-.94-.94-2.06-.94 2.06-2.06.94zm-11 1L8.5 8.5l.94-2.06 2.06-.94-2.06-.94L8.5 2.5l-.94 2.06-2.06.94zm10 10l.94 2.06.94-2.06 2.06-.94-2.06-.94-.94-2.06-.94 2.06-2.06.94z\"/><path d=\"M17.41 7.96l-1.37-1.37c-.4-.4-.92-.59-1.43-.59-.52 0-1.04.2-1.43.59L10.3 9.45l-7.72 7.72c-.78.78-.78 2.05 0 2.83L4 21.41c.39.39.9.59 1.41.59.51 0 1.02-.2 1.41-.59l7.78-7.78 2.81-2.81c.8-.78.8-2.07 0-2.86zM5.41 20L4 18.59l7.72-7.72 1.47 1.35L5.41 20z\"/>\n",
              "  </svg>\n",
              "      </button>\n",
              "\n",
              "\n",
              "\n",
              "    <div id=\"df-a7d128c0-ab07-46ad-9d11-2da11dbd3c32\">\n",
              "      <button class=\"colab-df-quickchart\" onclick=\"quickchart('df-a7d128c0-ab07-46ad-9d11-2da11dbd3c32')\"\n",
              "              title=\"Suggest charts.\"\n",
              "              style=\"display:none;\">\n",
              "\n",
              "<svg xmlns=\"http://www.w3.org/2000/svg\" height=\"24px\"viewBox=\"0 0 24 24\"\n",
              "     width=\"24px\">\n",
              "    <g>\n",
              "        <path d=\"M19 3H5c-1.1 0-2 .9-2 2v14c0 1.1.9 2 2 2h14c1.1 0 2-.9 2-2V5c0-1.1-.9-2-2-2zM9 17H7v-7h2v7zm4 0h-2V7h2v10zm4 0h-2v-4h2v4z\"/>\n",
              "    </g>\n",
              "</svg>\n",
              "      </button>\n",
              "    </div>\n",
              "\n",
              "<style>\n",
              "  .colab-df-quickchart {\n",
              "    background-color: #E8F0FE;\n",
              "    border: none;\n",
              "    border-radius: 50%;\n",
              "    cursor: pointer;\n",
              "    display: none;\n",
              "    fill: #1967D2;\n",
              "    height: 32px;\n",
              "    padding: 0 0 0 0;\n",
              "    width: 32px;\n",
              "  }\n",
              "\n",
              "  .colab-df-quickchart:hover {\n",
              "    background-color: #E2EBFA;\n",
              "    box-shadow: 0px 1px 2px rgba(60, 64, 67, 0.3), 0px 1px 3px 1px rgba(60, 64, 67, 0.15);\n",
              "    fill: #174EA6;\n",
              "  }\n",
              "\n",
              "  [theme=dark] .colab-df-quickchart {\n",
              "    background-color: #3B4455;\n",
              "    fill: #D2E3FC;\n",
              "  }\n",
              "\n",
              "  [theme=dark] .colab-df-quickchart:hover {\n",
              "    background-color: #434B5C;\n",
              "    box-shadow: 0px 1px 3px 1px rgba(0, 0, 0, 0.15);\n",
              "    filter: drop-shadow(0px 1px 2px rgba(0, 0, 0, 0.3));\n",
              "    fill: #FFFFFF;\n",
              "  }\n",
              "</style>\n",
              "\n",
              "    <script>\n",
              "      async function quickchart(key) {\n",
              "        const containerElement = document.querySelector('#' + key);\n",
              "        const charts = await google.colab.kernel.invokeFunction(\n",
              "            'suggestCharts', [key], {});\n",
              "      }\n",
              "    </script>\n",
              "\n",
              "      <script>\n",
              "\n",
              "function displayQuickchartButton(domScope) {\n",
              "  let quickchartButtonEl =\n",
              "    domScope.querySelector('#df-a7d128c0-ab07-46ad-9d11-2da11dbd3c32 button.colab-df-quickchart');\n",
              "  quickchartButtonEl.style.display =\n",
              "    google.colab.kernel.accessAllowed ? 'block' : 'none';\n",
              "}\n",
              "\n",
              "        displayQuickchartButton(document);\n",
              "      </script>\n",
              "      <style>\n",
              "    .colab-df-container {\n",
              "      display:flex;\n",
              "      flex-wrap:wrap;\n",
              "      gap: 12px;\n",
              "    }\n",
              "\n",
              "    .colab-df-convert {\n",
              "      background-color: #E8F0FE;\n",
              "      border: none;\n",
              "      border-radius: 50%;\n",
              "      cursor: pointer;\n",
              "      display: none;\n",
              "      fill: #1967D2;\n",
              "      height: 32px;\n",
              "      padding: 0 0 0 0;\n",
              "      width: 32px;\n",
              "    }\n",
              "\n",
              "    .colab-df-convert:hover {\n",
              "      background-color: #E2EBFA;\n",
              "      box-shadow: 0px 1px 2px rgba(60, 64, 67, 0.3), 0px 1px 3px 1px rgba(60, 64, 67, 0.15);\n",
              "      fill: #174EA6;\n",
              "    }\n",
              "\n",
              "    [theme=dark] .colab-df-convert {\n",
              "      background-color: #3B4455;\n",
              "      fill: #D2E3FC;\n",
              "    }\n",
              "\n",
              "    [theme=dark] .colab-df-convert:hover {\n",
              "      background-color: #434B5C;\n",
              "      box-shadow: 0px 1px 3px 1px rgba(0, 0, 0, 0.15);\n",
              "      filter: drop-shadow(0px 1px 2px rgba(0, 0, 0, 0.3));\n",
              "      fill: #FFFFFF;\n",
              "    }\n",
              "  </style>\n",
              "\n",
              "      <script>\n",
              "        const buttonEl =\n",
              "          document.querySelector('#df-910e77d1-1bf5-4f95-8e30-21ea5910c522 button.colab-df-convert');\n",
              "        buttonEl.style.display =\n",
              "          google.colab.kernel.accessAllowed ? 'block' : 'none';\n",
              "\n",
              "        async function convertToInteractive(key) {\n",
              "          const element = document.querySelector('#df-910e77d1-1bf5-4f95-8e30-21ea5910c522');\n",
              "          const dataTable =\n",
              "            await google.colab.kernel.invokeFunction('convertToInteractive',\n",
              "                                                     [key], {});\n",
              "          if (!dataTable) return;\n",
              "\n",
              "          const docLinkHtml = 'Like what you see? Visit the ' +\n",
              "            '<a target=\"_blank\" href=https://colab.research.google.com/notebooks/data_table.ipynb>data table notebook</a>'\n",
              "            + ' to learn more about interactive tables.';\n",
              "          element.innerHTML = '';\n",
              "          dataTable['output_type'] = 'display_data';\n",
              "          await google.colab.output.renderOutput(dataTable, element);\n",
              "          const docLink = document.createElement('div');\n",
              "          docLink.innerHTML = docLinkHtml;\n",
              "          element.appendChild(docLink);\n",
              "        }\n",
              "      </script>\n",
              "    </div>\n",
              "  </div>\n"
            ]
          },
          "metadata": {},
          "execution_count": 26
        }
      ]
    },
    {
      "cell_type": "code",
      "source": [
        "index_x = df_filtered['Year'] #estabelecendo o eixo x"
      ],
      "metadata": {
        "id": "-0mlUSbK1K8P"
      },
      "execution_count": null,
      "outputs": []
    },
    {
      "cell_type": "code",
      "source": [
        "index_y = df_filtered['Population'] #estabelecendo o eixo y"
      ],
      "metadata": {
        "id": "-zFs8ok11cZO"
      },
      "execution_count": null,
      "outputs": []
    },
    {
      "cell_type": "code",
      "source": [
        "y_pos = np.arange(len(index_x))"
      ],
      "metadata": {
        "id": "zmDhzuEe1gyh"
      },
      "execution_count": null,
      "outputs": []
    },
    {
      "cell_type": "code",
      "source": [
        "plt.figure(figsize=(15,7)) #definindo tamanho do gráfico\n",
        "plt.plot(y_pos, index_y) #gerando eixo rotacionado\n",
        "plt.xticks(y_pos, index_x)\n",
        "plt.xlabel('Ano', fontsize = 18) #label eixo x\n",
        "plt.ylabel('População', fontsize = 18)  #label eixo y\n",
        "plt.title('Crescimento Populacional', fontsize = 22)"
      ],
      "metadata": {
        "colab": {
          "base_uri": "https://localhost:8080/",
          "height": 610
        },
        "id": "RG7ApzQ_1ieB",
        "outputId": "afefe94f-27df-435f-ae0c-4c603a2e3971"
      },
      "execution_count": null,
      "outputs": [
        {
          "output_type": "execute_result",
          "data": {
            "text/plain": [
              "Text(0.5, 1.0, 'Crescimento Populacional')"
            ]
          },
          "metadata": {},
          "execution_count": 30
        },
        {
          "output_type": "display_data",
          "data": {
            "text/plain": [
              "<Figure size 1500x700 with 1 Axes>"
            ],
            "image/png": "[encoded data removed]"
          },
          "metadata": {}
        }
      ]
    },
    {
      "cell_type": "code",
      "source": [
        "index_xl = df_filtered['Year'] #criando o eixo x do grafico de linhas\n",
        "index_yl = df_filtered['Population'] #criando os eixos y do grafico de linahs\n",
        "index_yli = df_filtered['Fertility Rate']"
      ],
      "metadata": {
        "id": "UpZ052KrCk9n"
      },
      "execution_count": null,
      "outputs": []
    },
    {
      "cell_type": "code",
      "source": [
        "y_pos = np.arange(len(index_xl)) #definindo o arranjo do grafico pelo eixo x"
      ],
      "metadata": {
        "id": "ZHEe5q2tCkzJ"
      },
      "execution_count": null,
      "outputs": []
    },
    {
      "cell_type": "code",
      "source": [
        "plt.figure(figsize=(18,7)) #definindo tamanho do gráfico\n",
        "\n",
        "plt.title(\"Crescimento Populacional x Taxa de Fertilidade\", fontsize = 20)\n",
        "plt.xticks(y_pos, index_xl)\n",
        "plt.plot(y_pos, index_yl, color='lightblue', linewidth=3.0) # criando o eixo y com cor e espessura da linha\n",
        "plt.ylabel(\"Crescimento populacional (em Bi)\", color='lightblue', fontsize = 12) #colocando rotulo no eixo y e cor\n",
        "plt.tick_params(axis ='y', labelcolor = 'lightblue')  #alterando a cor do descritivo do eixo y\n",
        "\n",
        "ax2 = plt.twinx() #duplicando o eixo y\n",
        "plt.plot(y_pos, index_yli, color='lightgreen', linewidth=3.0)\n",
        "plt.ylabel(\"Taxa de Fertilidade em %\", fontsize = 12)\n",
        "plt.tick_params(axis ='y', labelcolor = 'lightgreen')"
      ],
      "metadata": {
        "colab": {
          "base_uri": "https://localhost:8080/",
          "height": 468
        },
        "id": "OoVnidvFCkv6",
        "outputId": "95bdae15-9dda-4e9b-e664-2a594ce132b0"
      },
      "execution_count": null,
      "outputs": [
        {
          "output_type": "display_data",
          "data": {
            "text/plain": [
              "<Figure size 1800x700 with 2 Axes>"
            ],
            "image/png": "[encoded data removed]"
          },
          "metadata": {}
        }
      ]
    },
    {
      "cell_type": "code",
      "source": [],
      "metadata": {
        "id": "uWgDs5fz9Ld3"
      },
      "execution_count": null,
      "outputs": []
    }
  ]
}